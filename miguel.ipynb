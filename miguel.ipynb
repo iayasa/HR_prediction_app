{
 "cells": [
  {
   "cell_type": "code",
   "execution_count": 7,
   "metadata": {},
   "outputs": [],
   "source": [
    "#Importamos la librerías y variables necesarias\n",
    "from mysql.connector import pooling\n",
    "import pandas as pd\n",
    "from flask import Flask, request, jsonify, abort, make_response\n",
    "from flask_cors import CORS\n",
    "from dotenv import load_dotenv\n",
    "import os\n",
    "import json\n",
    "import pickle"
   ]
  },
  {
   "cell_type": "code",
   "execution_count": 17,
   "metadata": {},
   "outputs": [],
   "source": [
    "load_dotenv()\n",
    "private_key = os.getenv(\"private_key\")\n",
    "\n",
    "# Configura el pool de conexiones\n",
    "dbconfig = {\n",
    "    \"host\": \"test-db.cze2nnbbx5pc.eu-west-3.rds.amazonaws.com\",\n",
    "    \"user\": \"admin\",\n",
    "    \"password\": \"admin123\",\n",
    "    \"database\": \"prueba\"\n",
    "}\n",
    "connection_pool = pooling.MySQLConnectionPool(pool_name=\"mypool\", pool_size=4, **dbconfig)\n",
    "# Función auxiliar para obtener una conexión del pool\n",
    "def get_connection():\n",
    "    return connection_pool.get_connection()"
   ]
  },
  {
   "cell_type": "code",
   "execution_count": 18,
   "metadata": {},
   "outputs": [],
   "source": [
    "#Funciones individuales que atacan a la base de datos\n",
    "def tabla_current_employees():\n",
    "        conn = get_connection()\n",
    "        cursor = conn.cursor()\n",
    "        cursor.execute(\"SELECT * from current_employees\")\n",
    "        resultado = cursor.fetchall()\n",
    "        column_names = [desc[0] for desc in cursor.description]\n",
    "        cursor.close()\n",
    "        conn.close() \n",
    "        X = pd.DataFrame(resultado, columns=column_names)\n",
    "        return(X)\n",
    "\n",
    "def borrar_datos_predictions():\n",
    "        conn = get_connection()\n",
    "        cursor = conn.cursor()\n",
    "        cursor.execute(\"TRUNCATE TABLE predictions;\")\n",
    "        conn.commit()\n",
    "        cursor.close()\n",
    "        conn.close() \n",
    "def subir_nuevos_datos_predictions(df_final):\n",
    "        conn = get_connection()\n",
    "        cursor = conn.cursor()\n",
    "\n",
    "        for _, row in df_final.iterrows():\n",
    "                insert_query = f\"INSERT INTO predictions (id_employee, total_months_in_company) VALUES (%s, %s)\"\n",
    "                values = (row['id_employee'], row['total_months_in_company'])\n",
    "                cursor.execute(insert_query, values)\n",
    "\n",
    "        conn.commit()\n",
    "        cursor.close()\n",
    "        conn.close() "
   ]
  },
  {
   "cell_type": "code",
   "execution_count": 19,
   "metadata": {},
   "outputs": [],
   "source": [
    "X=tabla_current_employees()\n"
   ]
  },
  {
   "cell_type": "code",
   "execution_count": 21,
   "metadata": {},
   "outputs": [],
   "source": [
    "borrar_datos_predictions()"
   ]
  },
  {
   "cell_type": "code",
   "execution_count": 30,
   "metadata": {},
   "outputs": [],
   "source": [
    "model = pickle.load(open('Data/Output/Models/Models/JP_12_06_VotingRegressor.pickle', 'rb'))\n",
    "scaler = pickle.load(open('Data/Output/Models/Models/scaler.pickle', 'rb'))\n",
    "columns_to_drop = ['id_employee','name', 'involvement', 'performance', 'environment', 'department', 'education', 'education_field',\n",
    "        'gender', 'role', 'years_curr_manager','total_working_years', 'last_promotion', 'age', 'years_company']\n",
    "ids=X[\"id_employee\"].tolist()\n",
    "X.drop(columns_to_drop, axis=1, inplace=True)\n",
    "X = scaler.transform(X)\n",
    "ls_new_value = model.predict(X)\n",
    "df_final = pd.DataFrame({'id_employee': ids, 'total_months_in_company': ls_new_value})"
   ]
  },
  {
   "cell_type": "code",
   "execution_count": 31,
   "metadata": {},
   "outputs": [],
   "source": [
    "subir_nuevos_datos_predictions(df_final)"
   ]
  },
  {
   "cell_type": "code",
   "execution_count": 1,
   "metadata": {},
   "outputs": [],
   "source": [
    "# Subir la api que comprueba los headers\n",
    "\n",
    "# Subir la api que predice y reentrena el modelo\n",
    "\n",
    "#Conectar la FK de la base de datos\n",
    "\n",
    "# Esquema base de datos -> \n",
    "\n",
    "#Esquema de todos los servicios -> Jose"
   ]
  }
 ],
 "metadata": {
  "kernelspec": {
   "display_name": "Python 3",
   "language": "python",
   "name": "python3"
  },
  "language_info": {
   "codemirror_mode": {
    "name": "ipython",
    "version": 3
   },
   "file_extension": ".py",
   "mimetype": "text/x-python",
   "name": "python",
   "nbconvert_exporter": "python",
   "pygments_lexer": "ipython3",
   "version": "3.7.4"
  },
  "orig_nbformat": 4
 },
 "nbformat": 4,
 "nbformat_minor": 2
}
