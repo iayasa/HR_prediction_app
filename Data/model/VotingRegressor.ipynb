{
 "cells": [
  {
   "cell_type": "code",
   "execution_count": 14,
   "metadata": {},
   "outputs": [],
   "source": [
    "import pandas as pd\n",
    "import numpy as np\n",
    "import matplotlib.pyplot as plt\n",
    "import seaborn as sns\n",
    "# Exportar modelos\n",
    "import pickle\n",
    "# Pipeline\n",
    "from sklearn.pipeline import Pipeline\n",
    "# CV\n",
    "from sklearn.model_selection import cross_val_score, GridSearchCV, RandomizedSearchCV\n",
    "from sklearn.model_selection import KFold\n",
    "# Modelos\n",
    "from sklearn.linear_model import LinearRegression\n",
    "from sklearn.preprocessing import StandardScaler\n",
    "from sklearn.model_selection import train_test_split\n",
    "from sklearn.metrics import mean_squared_error\n",
    "from sklearn.linear_model import Ridge, Lasso, ElasticNet\n",
    "from sklearn.ensemble import VotingRegressor\n",
    "# Métricas\n",
    "from sklearn.metrics import mean_absolute_error, mean_squared_error, r2_score"
   ]
  },
  {
   "cell_type": "code",
   "execution_count": 15,
   "metadata": {},
   "outputs": [],
   "source": [
    "# Cargamos datos\n",
    "data_actual_original= pd.read_csv('./TRABAJADORES_ACTUALES_MOD_FINAL4.csv', sep='\\t')\n",
    "data_attrition_original = pd.read_csv('./ATTRITION_MOD_FINAL4.csv', sep='\\t')"
   ]
  },
  {
   "cell_type": "code",
   "execution_count": 16,
   "metadata": {},
   "outputs": [],
   "source": [
    "# Eliminar columnas\n",
    "columns_to_drop = ['id_employee','name', 'involvement', 'performance', 'environment', 'department', 'education', 'education_field',\n",
    "                   'gender', 'role', 'years_curr_manager','total_working_years', 'last_promotion', 'age']\n",
    "data_actual_limpio = data_actual_original.drop(columns=columns_to_drop)\n",
    "data_attrition_limpio = data_attrition_original.drop(columns=columns_to_drop)\n"
   ]
  },
  {
   "attachments": {},
   "cell_type": "markdown",
   "metadata": {},
   "source": [
    "## Entrenamiento"
   ]
  },
  {
   "cell_type": "code",
   "execution_count": 6,
   "metadata": {},
   "outputs": [],
   "source": [
    "# Dividimos en features y target, siendo el target x_e_out [-]\n",
    "X = data_attrition_limpio.drop(['years_company'], axis = 1)\n",
    "y = data_attrition_limpio['years_company']\n",
    "# multiplicamos years_company por 12 para obtener los meses\n",
    "y = y * 12\n",
    "\n",
    "# Dividimos entre train y test\n",
    "from sklearn.model_selection import train_test_split\n",
    "X_train, X_test, y_train, y_test = train_test_split(X, y, test_size=.2, random_state=0)\n",
    "scaler = StandardScaler()\n",
    "X_train_scaled = scaler.fit_transform(X_train)\n",
    "X_test_scaled = scaler.transform(X_test)"
   ]
  },
  {
   "cell_type": "code",
   "execution_count": 17,
   "metadata": {},
   "outputs": [],
   "source": [
    "# Preparando la validación cruzada\n",
    "cv = KFold(n_splits=5, shuffle = True, random_state=0)"
   ]
  },
  {
   "cell_type": "code",
   "execution_count": 18,
   "metadata": {},
   "outputs": [],
   "source": [
    "# Cargamos los modelos pickle que conformarán el ensamble\n",
    "with open('./JP_10_06_1_XGB_MAE_2-85_R2_0-98.pickle', 'rb') as f:\n",
    "    xgb = pickle.load(f)\n",
    "with open('./JP_10_06_1_RIDGE_MAE_26-50_R2_0-61.pickle', 'rb') as f:\n",
    "    ridge = pickle.load(f)\n",
    "\n",
    "estimator_ridge = ridge\n",
    "estimator_xgb = xgb\n",
    "\n",
    "# Crear el VotingRegressor\n",
    "voting_regressor = VotingRegressor(\n",
    "    estimators=[\n",
    "        ('ridge', estimator_ridge),\n",
    "        ('xgb', estimator_xgb)\n",
    "    ]\n",
    ")\n",
    "\n",
    "# Entrenar el VotingRegressor\n",
    "voting_regressor.fit(X_train_scaled, y_train)\n",
    "\n",
    "# Obtener las predicciones del VotingRegressor\n",
    "y_pred = voting_regressor.predict(X_test_scaled)"
   ]
  },
  {
   "cell_type": "code",
   "execution_count": 20,
   "metadata": {},
   "outputs": [],
   "source": [
    "## Exportamos a pickle el scaler\n",
    "with open('./scaler.pickle', 'wb') as f:\n",
    "    pickle.dump(scaler, f)\n",
    "    "
   ]
  },
  {
   "cell_type": "code",
   "execution_count": 11,
   "metadata": {},
   "outputs": [
    {
     "name": "stdout",
     "output_type": "stream",
     "text": [
      "El modelo se ha guardado exitosamente en ./VotingRegressor_scaled.pickle.\n"
     ]
    }
   ],
   "source": [
    "## Exportamos a pickle el voting_regressor\n",
    "\n",
    "nombre_archivo = './VotingRegressor_scaled.pickle'\n",
    "modelo = voting_regressor\n",
    "import pickle\n",
    "try:\n",
    "    with open(nombre_archivo, 'wb') as archivo:\n",
    "        pickle.dump(modelo, archivo)\n",
    "    print(f\"El modelo se ha guardado exitosamente en {nombre_archivo}.\")\n",
    "except IOError:\n",
    "    print(\"Error: No se pudo guardar el modelo. Permiso denegado.\")\n",
    "    "
   ]
  },
  {
   "attachments": {},
   "cell_type": "markdown",
   "metadata": {},
   "source": [
    "## Feature importance voting regressor"
   ]
  },
  {
   "cell_type": "code",
   "execution_count": 63,
   "metadata": {},
   "outputs": [
    {
     "name": "stdout",
     "output_type": "stream",
     "text": [
      "Media de importancia de características: [0.16143066 0.01144143 0.00884414 0.04603199 0.10602067 0.03252601\n",
      " 0.24605961 0.04430465 0.05745124 0.16451548 0.12137408]\n"
     ]
    }
   ],
   "source": [
    "estimators = voting_regressor.estimators_\n",
    "\n",
    "# Inicializar una lista para almacenar las importancias de las características de cada modelo\n",
    "feature_importances = []\n",
    "\n",
    "# Obtener las importancias de las características de cada modelo y almacenarlas en la lista\n",
    "for estimator in estimators:\n",
    "    if hasattr(estimator, 'feature_importances_'):\n",
    "        feature_importances.append(estimator.feature_importances_)\n",
    "\n",
    "# Calcular la media de las importancias de las características de todos los modelos\n",
    "mean_feature_importances = np.mean(feature_importances, axis=0)\n",
    "\n",
    "# Utilizar la media para interpretar la importancia relativa de las características\n",
    "print(\"Media de importancia de características:\", mean_feature_importances)"
   ]
  },
  {
   "cell_type": "code",
   "execution_count": 47,
   "metadata": {},
   "outputs": [
    {
     "data": {
      "application/vnd.plotly.v1+json": {
       "config": {
        "plotlyServerURL": "https://plot.ly"
       },
       "data": [
        {
         "orientation": "h",
         "type": "bar",
         "x": [
          0.16143065690994263,
          0.011441430076956749,
          0.008844138123095036,
          0.04603198543190956,
          0.10602066665887833,
          0.032526008784770966,
          0.2460596114397049,
          0.044304654002189636,
          0.05745123699307442,
          0.16451548039913177,
          0.12137407809495926
         ],
         "y": [
          "satisfaction",
          "life_balance",
          "travel",
          "distance_home",
          "job_level",
          "marital_status",
          "income",
          "previous_companies",
          "salary_hike",
          "stock_option",
          "training_ly"
         ]
        }
       ],
       "layout": {
        "autosize": false,
        "font": {
         "size": 22
        },
        "height": 900,
        "template": {
         "data": {
          "bar": [
           {
            "error_x": {
             "color": "#2a3f5f"
            },
            "error_y": {
             "color": "#2a3f5f"
            },
            "marker": {
             "line": {
              "color": "#E5ECF6",
              "width": 0.5
             },
             "pattern": {
              "fillmode": "overlay",
              "size": 10,
              "solidity": 0.2
             }
            },
            "type": "bar"
           }
          ],
          "barpolar": [
           {
            "marker": {
             "line": {
              "color": "#E5ECF6",
              "width": 0.5
             },
             "pattern": {
              "fillmode": "overlay",
              "size": 10,
              "solidity": 0.2
             }
            },
            "type": "barpolar"
           }
          ],
          "carpet": [
           {
            "aaxis": {
             "endlinecolor": "#2a3f5f",
             "gridcolor": "white",
             "linecolor": "white",
             "minorgridcolor": "white",
             "startlinecolor": "#2a3f5f"
            },
            "baxis": {
             "endlinecolor": "#2a3f5f",
             "gridcolor": "white",
             "linecolor": "white",
             "minorgridcolor": "white",
             "startlinecolor": "#2a3f5f"
            },
            "type": "carpet"
           }
          ],
          "choropleth": [
           {
            "colorbar": {
             "outlinewidth": 0,
             "ticks": ""
            },
            "type": "choropleth"
           }
          ],
          "contour": [
           {
            "colorbar": {
             "outlinewidth": 0,
             "ticks": ""
            },
            "colorscale": [
             [
              0,
              "#0d0887"
             ],
             [
              0.1111111111111111,
              "#46039f"
             ],
             [
              0.2222222222222222,
              "#7201a8"
             ],
             [
              0.3333333333333333,
              "#9c179e"
             ],
             [
              0.4444444444444444,
              "#bd3786"
             ],
             [
              0.5555555555555556,
              "#d8576b"
             ],
             [
              0.6666666666666666,
              "#ed7953"
             ],
             [
              0.7777777777777778,
              "#fb9f3a"
             ],
             [
              0.8888888888888888,
              "#fdca26"
             ],
             [
              1,
              "#f0f921"
             ]
            ],
            "type": "contour"
           }
          ],
          "contourcarpet": [
           {
            "colorbar": {
             "outlinewidth": 0,
             "ticks": ""
            },
            "type": "contourcarpet"
           }
          ],
          "heatmap": [
           {
            "colorbar": {
             "outlinewidth": 0,
             "ticks": ""
            },
            "colorscale": [
             [
              0,
              "#0d0887"
             ],
             [
              0.1111111111111111,
              "#46039f"
             ],
             [
              0.2222222222222222,
              "#7201a8"
             ],
             [
              0.3333333333333333,
              "#9c179e"
             ],
             [
              0.4444444444444444,
              "#bd3786"
             ],
             [
              0.5555555555555556,
              "#d8576b"
             ],
             [
              0.6666666666666666,
              "#ed7953"
             ],
             [
              0.7777777777777778,
              "#fb9f3a"
             ],
             [
              0.8888888888888888,
              "#fdca26"
             ],
             [
              1,
              "#f0f921"
             ]
            ],
            "type": "heatmap"
           }
          ],
          "heatmapgl": [
           {
            "colorbar": {
             "outlinewidth": 0,
             "ticks": ""
            },
            "colorscale": [
             [
              0,
              "#0d0887"
             ],
             [
              0.1111111111111111,
              "#46039f"
             ],
             [
              0.2222222222222222,
              "#7201a8"
             ],
             [
              0.3333333333333333,
              "#9c179e"
             ],
             [
              0.4444444444444444,
              "#bd3786"
             ],
             [
              0.5555555555555556,
              "#d8576b"
             ],
             [
              0.6666666666666666,
              "#ed7953"
             ],
             [
              0.7777777777777778,
              "#fb9f3a"
             ],
             [
              0.8888888888888888,
              "#fdca26"
             ],
             [
              1,
              "#f0f921"
             ]
            ],
            "type": "heatmapgl"
           }
          ],
          "histogram": [
           {
            "marker": {
             "pattern": {
              "fillmode": "overlay",
              "size": 10,
              "solidity": 0.2
             }
            },
            "type": "histogram"
           }
          ],
          "histogram2d": [
           {
            "colorbar": {
             "outlinewidth": 0,
             "ticks": ""
            },
            "colorscale": [
             [
              0,
              "#0d0887"
             ],
             [
              0.1111111111111111,
              "#46039f"
             ],
             [
              0.2222222222222222,
              "#7201a8"
             ],
             [
              0.3333333333333333,
              "#9c179e"
             ],
             [
              0.4444444444444444,
              "#bd3786"
             ],
             [
              0.5555555555555556,
              "#d8576b"
             ],
             [
              0.6666666666666666,
              "#ed7953"
             ],
             [
              0.7777777777777778,
              "#fb9f3a"
             ],
             [
              0.8888888888888888,
              "#fdca26"
             ],
             [
              1,
              "#f0f921"
             ]
            ],
            "type": "histogram2d"
           }
          ],
          "histogram2dcontour": [
           {
            "colorbar": {
             "outlinewidth": 0,
             "ticks": ""
            },
            "colorscale": [
             [
              0,
              "#0d0887"
             ],
             [
              0.1111111111111111,
              "#46039f"
             ],
             [
              0.2222222222222222,
              "#7201a8"
             ],
             [
              0.3333333333333333,
              "#9c179e"
             ],
             [
              0.4444444444444444,
              "#bd3786"
             ],
             [
              0.5555555555555556,
              "#d8576b"
             ],
             [
              0.6666666666666666,
              "#ed7953"
             ],
             [
              0.7777777777777778,
              "#fb9f3a"
             ],
             [
              0.8888888888888888,
              "#fdca26"
             ],
             [
              1,
              "#f0f921"
             ]
            ],
            "type": "histogram2dcontour"
           }
          ],
          "mesh3d": [
           {
            "colorbar": {
             "outlinewidth": 0,
             "ticks": ""
            },
            "type": "mesh3d"
           }
          ],
          "parcoords": [
           {
            "line": {
             "colorbar": {
              "outlinewidth": 0,
              "ticks": ""
             }
            },
            "type": "parcoords"
           }
          ],
          "pie": [
           {
            "automargin": true,
            "type": "pie"
           }
          ],
          "scatter": [
           {
            "fillpattern": {
             "fillmode": "overlay",
             "size": 10,
             "solidity": 0.2
            },
            "type": "scatter"
           }
          ],
          "scatter3d": [
           {
            "line": {
             "colorbar": {
              "outlinewidth": 0,
              "ticks": ""
             }
            },
            "marker": {
             "colorbar": {
              "outlinewidth": 0,
              "ticks": ""
             }
            },
            "type": "scatter3d"
           }
          ],
          "scattercarpet": [
           {
            "marker": {
             "colorbar": {
              "outlinewidth": 0,
              "ticks": ""
             }
            },
            "type": "scattercarpet"
           }
          ],
          "scattergeo": [
           {
            "marker": {
             "colorbar": {
              "outlinewidth": 0,
              "ticks": ""
             }
            },
            "type": "scattergeo"
           }
          ],
          "scattergl": [
           {
            "marker": {
             "colorbar": {
              "outlinewidth": 0,
              "ticks": ""
             }
            },
            "type": "scattergl"
           }
          ],
          "scattermapbox": [
           {
            "marker": {
             "colorbar": {
              "outlinewidth": 0,
              "ticks": ""
             }
            },
            "type": "scattermapbox"
           }
          ],
          "scatterpolar": [
           {
            "marker": {
             "colorbar": {
              "outlinewidth": 0,
              "ticks": ""
             }
            },
            "type": "scatterpolar"
           }
          ],
          "scatterpolargl": [
           {
            "marker": {
             "colorbar": {
              "outlinewidth": 0,
              "ticks": ""
             }
            },
            "type": "scatterpolargl"
           }
          ],
          "scatterternary": [
           {
            "marker": {
             "colorbar": {
              "outlinewidth": 0,
              "ticks": ""
             }
            },
            "type": "scatterternary"
           }
          ],
          "surface": [
           {
            "colorbar": {
             "outlinewidth": 0,
             "ticks": ""
            },
            "colorscale": [
             [
              0,
              "#0d0887"
             ],
             [
              0.1111111111111111,
              "#46039f"
             ],
             [
              0.2222222222222222,
              "#7201a8"
             ],
             [
              0.3333333333333333,
              "#9c179e"
             ],
             [
              0.4444444444444444,
              "#bd3786"
             ],
             [
              0.5555555555555556,
              "#d8576b"
             ],
             [
              0.6666666666666666,
              "#ed7953"
             ],
             [
              0.7777777777777778,
              "#fb9f3a"
             ],
             [
              0.8888888888888888,
              "#fdca26"
             ],
             [
              1,
              "#f0f921"
             ]
            ],
            "type": "surface"
           }
          ],
          "table": [
           {
            "cells": {
             "fill": {
              "color": "#EBF0F8"
             },
             "line": {
              "color": "white"
             }
            },
            "header": {
             "fill": {
              "color": "#C8D4E3"
             },
             "line": {
              "color": "white"
             }
            },
            "type": "table"
           }
          ]
         },
         "layout": {
          "annotationdefaults": {
           "arrowcolor": "#2a3f5f",
           "arrowhead": 0,
           "arrowwidth": 1
          },
          "autotypenumbers": "strict",
          "coloraxis": {
           "colorbar": {
            "outlinewidth": 0,
            "ticks": ""
           }
          },
          "colorscale": {
           "diverging": [
            [
             0,
             "#8e0152"
            ],
            [
             0.1,
             "#c51b7d"
            ],
            [
             0.2,
             "#de77ae"
            ],
            [
             0.3,
             "#f1b6da"
            ],
            [
             0.4,
             "#fde0ef"
            ],
            [
             0.5,
             "#f7f7f7"
            ],
            [
             0.6,
             "#e6f5d0"
            ],
            [
             0.7,
             "#b8e186"
            ],
            [
             0.8,
             "#7fbc41"
            ],
            [
             0.9,
             "#4d9221"
            ],
            [
             1,
             "#276419"
            ]
           ],
           "sequential": [
            [
             0,
             "#0d0887"
            ],
            [
             0.1111111111111111,
             "#46039f"
            ],
            [
             0.2222222222222222,
             "#7201a8"
            ],
            [
             0.3333333333333333,
             "#9c179e"
            ],
            [
             0.4444444444444444,
             "#bd3786"
            ],
            [
             0.5555555555555556,
             "#d8576b"
            ],
            [
             0.6666666666666666,
             "#ed7953"
            ],
            [
             0.7777777777777778,
             "#fb9f3a"
            ],
            [
             0.8888888888888888,
             "#fdca26"
            ],
            [
             1,
             "#f0f921"
            ]
           ],
           "sequentialminus": [
            [
             0,
             "#0d0887"
            ],
            [
             0.1111111111111111,
             "#46039f"
            ],
            [
             0.2222222222222222,
             "#7201a8"
            ],
            [
             0.3333333333333333,
             "#9c179e"
            ],
            [
             0.4444444444444444,
             "#bd3786"
            ],
            [
             0.5555555555555556,
             "#d8576b"
            ],
            [
             0.6666666666666666,
             "#ed7953"
            ],
            [
             0.7777777777777778,
             "#fb9f3a"
            ],
            [
             0.8888888888888888,
             "#fdca26"
            ],
            [
             1,
             "#f0f921"
            ]
           ]
          },
          "colorway": [
           "#636efa",
           "#EF553B",
           "#00cc96",
           "#ab63fa",
           "#FFA15A",
           "#19d3f3",
           "#FF6692",
           "#B6E880",
           "#FF97FF",
           "#FECB52"
          ],
          "font": {
           "color": "#2a3f5f"
          },
          "geo": {
           "bgcolor": "white",
           "lakecolor": "white",
           "landcolor": "#E5ECF6",
           "showlakes": true,
           "showland": true,
           "subunitcolor": "white"
          },
          "hoverlabel": {
           "align": "left"
          },
          "hovermode": "closest",
          "mapbox": {
           "style": "light"
          },
          "paper_bgcolor": "white",
          "plot_bgcolor": "#E5ECF6",
          "polar": {
           "angularaxis": {
            "gridcolor": "white",
            "linecolor": "white",
            "ticks": ""
           },
           "bgcolor": "#E5ECF6",
           "radialaxis": {
            "gridcolor": "white",
            "linecolor": "white",
            "ticks": ""
           }
          },
          "scene": {
           "xaxis": {
            "backgroundcolor": "#E5ECF6",
            "gridcolor": "white",
            "gridwidth": 2,
            "linecolor": "white",
            "showbackground": true,
            "ticks": "",
            "zerolinecolor": "white"
           },
           "yaxis": {
            "backgroundcolor": "#E5ECF6",
            "gridcolor": "white",
            "gridwidth": 2,
            "linecolor": "white",
            "showbackground": true,
            "ticks": "",
            "zerolinecolor": "white"
           },
           "zaxis": {
            "backgroundcolor": "#E5ECF6",
            "gridcolor": "white",
            "gridwidth": 2,
            "linecolor": "white",
            "showbackground": true,
            "ticks": "",
            "zerolinecolor": "white"
           }
          },
          "shapedefaults": {
           "line": {
            "color": "#2a3f5f"
           }
          },
          "ternary": {
           "aaxis": {
            "gridcolor": "white",
            "linecolor": "white",
            "ticks": ""
           },
           "baxis": {
            "gridcolor": "white",
            "linecolor": "white",
            "ticks": ""
           },
           "bgcolor": "#E5ECF6",
           "caxis": {
            "gridcolor": "white",
            "linecolor": "white",
            "ticks": ""
           }
          },
          "title": {
           "x": 0.05
          },
          "xaxis": {
           "automargin": true,
           "gridcolor": "white",
           "linecolor": "white",
           "ticks": "",
           "title": {
            "standoff": 15
           },
           "zerolinecolor": "white",
           "zerolinewidth": 2
          },
          "yaxis": {
           "automargin": true,
           "gridcolor": "white",
           "linecolor": "white",
           "ticks": "",
           "title": {
            "standoff": 15
           },
           "zerolinecolor": "white",
           "zerolinewidth": 2
          }
         }
        },
        "title": {
         "text": "<b>Feature importances</b>",
         "x": 0.5
        },
        "width": 800,
        "xaxis": {
         "title": {
          "text": "Importancia relativa"
         }
        },
        "yaxis": {
         "title": {
          "text": "Variables"
         }
        }
       }
      }
     },
     "metadata": {},
     "output_type": "display_data"
    }
   ],
   "source": [
    "# Representamos las mean_feature_importances en un gráfico de barras con plotly\n",
    "import plotly.graph_objects as go\n",
    "# Hacemos un barh con X.columns, mean_feature_importances\n",
    "fig = go.Figure(go.Bar(\n",
    "            x=mean_feature_importances,\n",
    "            y=X.columns,\n",
    "            orientation='h'))\n",
    "#X_label Importancia relativa\n",
    "fig.update_layout(title_text='<b>Feature importances</b>',\n",
    "                    xaxis_title_text='Importancia relativa',\n",
    "                    yaxis_title_text='Variables')\n",
    "# Aumentamos el tamaño vertical y reducimos la anchura\n",
    "fig.update_layout(autosize=False, width=800, height=900)\n",
    "# Centramos el título\n",
    "fig.update_layout(title_x=0.5)\n",
    "# Añadimos el tamaño de las fuentes de los ejes\n",
    "\n",
    "fig.update_layout(\n",
    "    font=dict(\n",
    "        size=22,\n",
    "    )\n",
    ")\n",
    "\n",
    "\n",
    "# La mostramos\n",
    "fig.show()\n",
    "\n"
   ]
  },
  {
   "attachments": {},
   "cell_type": "markdown",
   "metadata": {},
   "source": [
    "### Extraemos gráficas de error"
   ]
  },
  {
   "cell_type": "code",
   "execution_count": 74,
   "metadata": {},
   "outputs": [
    {
     "data": {
      "application/vnd.plotly.v1+json": {
       "config": {
        "plotlyServerURL": "https://plot.ly"
       },
       "data": [
        {
         "alignmentgroup": "True",
         "bingroup": "x",
         "hovertemplate": "variable=years_company<br>value=%{x}<br>count=%{y}<extra></extra>",
         "legendgroup": "years_company",
         "marker": {
          "color": "#636efa",
          "pattern": {
           "shape": ""
          }
         },
         "name": "years_company",
         "nbinsx": 60,
         "offsetgroup": "years_company",
         "orientation": "v",
         "showlegend": true,
         "type": "histogram",
         "x": [
          -82.60968511578301,
          0.7996187298633828,
          23.08121226464334,
          -3.68815462113308,
          36.41976689436255,
          -6.726481986393267,
          9.805144370469463,
          -7.960580281185525,
          6.540001528586206,
          7.900845947760583,
          12.207890883573185,
          28.265694722629945,
          -8.754439497884732,
          21.082856376902583,
          -9.741360053700852,
          -8.24480672468016,
          -8.533688740777109,
          6.604431645736604,
          5.252340233313959,
          10.00506161189324,
          24.506276930383535,
          39.985640072099855,
          17.109532720997635,
          23.293746219991874,
          -7.931024798303852,
          36.20728468929815,
          -9.865479595230031,
          -25.030678093792943,
          -60.76912362328281,
          -8.969990456752186,
          -3.8737881028563805,
          -37.08195367108158,
          -0.26233731679836936,
          12.776060854740876,
          23.034610845749008,
          9.240511865609662,
          0.36125044878027524,
          -6.984965445132374,
          12.988729072913799,
          2.7204082692231353,
          18.160917110188905,
          14.152250077091992,
          6.769336143822681,
          0.6646303081325549,
          -3.5122175768034474,
          5.551803997872973,
          15.027268663300816,
          -12.511998033877717,
          -15.08726452413486,
          10.027362587887389,
          22.568157199331537,
          -14.270438857955767,
          9.713367751268109,
          -6.755497340265286,
          36.28726078451547,
          2.892755398782267,
          12.072353919786408,
          -11.372027822601154,
          -3.4443175029549025,
          -3.1461806207813154,
          -8.848286977136254,
          76.04895986294713,
          -4.549967302683694,
          -9.427686376108682,
          14.487556890697292,
          -14.110912174706414,
          6.422240305311401,
          -28.388602708576784,
          41.31628265375272,
          17.76884841597672,
          -21.60982813316886,
          -1.7979000677976131,
          -26.314047754200715,
          47.672713863972746,
          -6.847791226705233,
          10.499698561453364,
          4.011803084033453,
          6.675459024482528,
          -38.91805957847363,
          10.031476140782587,
          1.6965732439310734,
          -19.06260388876231,
          21.348166204864675,
          2.209162011851337,
          -9.928533025860176,
          -45.75390972363081,
          22.17710279260173,
          1.1419947613960346,
          -135.18997108396235,
          7.592375610512988,
          1.018780070493328,
          9.72389704671889,
          8.918291644642714,
          20.98176713901613,
          9.509317614445074,
          -3.733498214670025,
          -9.170318513271017,
          19.077672845361988,
          -0.03391434731996412,
          -3.177963327971966,
          -2.12292579605014,
          16.85322774152939,
          -11.939412704422793,
          11.179371165758496,
          -1.5443543997189089,
          -11.760032416371672,
          11.967497071335174,
          5.127038605156031,
          12.254480763622077,
          10.874825211642815,
          1.8589846138309376,
          -4.655678928728761,
          10.306856660112103,
          1.1212432173797566,
          3.0191502554310787,
          -2.559364130981102,
          -14.961661397246012,
          -2.492433476128319,
          1.1198063496643904,
          -3.210102193281017,
          -6.990444090126992,
          2.863352573578627,
          -4.904295547372925,
          -12.818690743879149,
          20.553870212182886,
          -2.19238015284904,
          2.967221581774396,
          54.30898282734145,
          8.047995330221614,
          -23.21973455755134,
          1.1545101470096952,
          6.563720693301011,
          -9.852581921829813,
          16.049309050348427,
          9.216086884332775,
          0.23458592738077755,
          -5.797193491958012,
          62.68703685644411,
          1.4279091092148413,
          22.40511823000275,
          7.505210162145634,
          1.818146491064546,
          0.14011598293485505
         ],
         "xaxis": "x",
         "yaxis": "y"
        }
       ],
       "layout": {
        "autosize": false,
        "barmode": "relative",
        "font": {
         "size": 20
        },
        "height": 500,
        "legend": {
         "title": {
          "text": "variable"
         },
         "tracegroupgap": 0
        },
        "margin": {
         "t": 60
        },
        "showlegend": false,
        "template": {
         "data": {
          "bar": [
           {
            "error_x": {
             "color": "#2a3f5f"
            },
            "error_y": {
             "color": "#2a3f5f"
            },
            "marker": {
             "line": {
              "color": "#E5ECF6",
              "width": 0.5
             },
             "pattern": {
              "fillmode": "overlay",
              "size": 10,
              "solidity": 0.2
             }
            },
            "type": "bar"
           }
          ],
          "barpolar": [
           {
            "marker": {
             "line": {
              "color": "#E5ECF6",
              "width": 0.5
             },
             "pattern": {
              "fillmode": "overlay",
              "size": 10,
              "solidity": 0.2
             }
            },
            "type": "barpolar"
           }
          ],
          "carpet": [
           {
            "aaxis": {
             "endlinecolor": "#2a3f5f",
             "gridcolor": "white",
             "linecolor": "white",
             "minorgridcolor": "white",
             "startlinecolor": "#2a3f5f"
            },
            "baxis": {
             "endlinecolor": "#2a3f5f",
             "gridcolor": "white",
             "linecolor": "white",
             "minorgridcolor": "white",
             "startlinecolor": "#2a3f5f"
            },
            "type": "carpet"
           }
          ],
          "choropleth": [
           {
            "colorbar": {
             "outlinewidth": 0,
             "ticks": ""
            },
            "type": "choropleth"
           }
          ],
          "contour": [
           {
            "colorbar": {
             "outlinewidth": 0,
             "ticks": ""
            },
            "colorscale": [
             [
              0,
              "#0d0887"
             ],
             [
              0.1111111111111111,
              "#46039f"
             ],
             [
              0.2222222222222222,
              "#7201a8"
             ],
             [
              0.3333333333333333,
              "#9c179e"
             ],
             [
              0.4444444444444444,
              "#bd3786"
             ],
             [
              0.5555555555555556,
              "#d8576b"
             ],
             [
              0.6666666666666666,
              "#ed7953"
             ],
             [
              0.7777777777777778,
              "#fb9f3a"
             ],
             [
              0.8888888888888888,
              "#fdca26"
             ],
             [
              1,
              "#f0f921"
             ]
            ],
            "type": "contour"
           }
          ],
          "contourcarpet": [
           {
            "colorbar": {
             "outlinewidth": 0,
             "ticks": ""
            },
            "type": "contourcarpet"
           }
          ],
          "heatmap": [
           {
            "colorbar": {
             "outlinewidth": 0,
             "ticks": ""
            },
            "colorscale": [
             [
              0,
              "#0d0887"
             ],
             [
              0.1111111111111111,
              "#46039f"
             ],
             [
              0.2222222222222222,
              "#7201a8"
             ],
             [
              0.3333333333333333,
              "#9c179e"
             ],
             [
              0.4444444444444444,
              "#bd3786"
             ],
             [
              0.5555555555555556,
              "#d8576b"
             ],
             [
              0.6666666666666666,
              "#ed7953"
             ],
             [
              0.7777777777777778,
              "#fb9f3a"
             ],
             [
              0.8888888888888888,
              "#fdca26"
             ],
             [
              1,
              "#f0f921"
             ]
            ],
            "type": "heatmap"
           }
          ],
          "heatmapgl": [
           {
            "colorbar": {
             "outlinewidth": 0,
             "ticks": ""
            },
            "colorscale": [
             [
              0,
              "#0d0887"
             ],
             [
              0.1111111111111111,
              "#46039f"
             ],
             [
              0.2222222222222222,
              "#7201a8"
             ],
             [
              0.3333333333333333,
              "#9c179e"
             ],
             [
              0.4444444444444444,
              "#bd3786"
             ],
             [
              0.5555555555555556,
              "#d8576b"
             ],
             [
              0.6666666666666666,
              "#ed7953"
             ],
             [
              0.7777777777777778,
              "#fb9f3a"
             ],
             [
              0.8888888888888888,
              "#fdca26"
             ],
             [
              1,
              "#f0f921"
             ]
            ],
            "type": "heatmapgl"
           }
          ],
          "histogram": [
           {
            "marker": {
             "pattern": {
              "fillmode": "overlay",
              "size": 10,
              "solidity": 0.2
             }
            },
            "type": "histogram"
           }
          ],
          "histogram2d": [
           {
            "colorbar": {
             "outlinewidth": 0,
             "ticks": ""
            },
            "colorscale": [
             [
              0,
              "#0d0887"
             ],
             [
              0.1111111111111111,
              "#46039f"
             ],
             [
              0.2222222222222222,
              "#7201a8"
             ],
             [
              0.3333333333333333,
              "#9c179e"
             ],
             [
              0.4444444444444444,
              "#bd3786"
             ],
             [
              0.5555555555555556,
              "#d8576b"
             ],
             [
              0.6666666666666666,
              "#ed7953"
             ],
             [
              0.7777777777777778,
              "#fb9f3a"
             ],
             [
              0.8888888888888888,
              "#fdca26"
             ],
             [
              1,
              "#f0f921"
             ]
            ],
            "type": "histogram2d"
           }
          ],
          "histogram2dcontour": [
           {
            "colorbar": {
             "outlinewidth": 0,
             "ticks": ""
            },
            "colorscale": [
             [
              0,
              "#0d0887"
             ],
             [
              0.1111111111111111,
              "#46039f"
             ],
             [
              0.2222222222222222,
              "#7201a8"
             ],
             [
              0.3333333333333333,
              "#9c179e"
             ],
             [
              0.4444444444444444,
              "#bd3786"
             ],
             [
              0.5555555555555556,
              "#d8576b"
             ],
             [
              0.6666666666666666,
              "#ed7953"
             ],
             [
              0.7777777777777778,
              "#fb9f3a"
             ],
             [
              0.8888888888888888,
              "#fdca26"
             ],
             [
              1,
              "#f0f921"
             ]
            ],
            "type": "histogram2dcontour"
           }
          ],
          "mesh3d": [
           {
            "colorbar": {
             "outlinewidth": 0,
             "ticks": ""
            },
            "type": "mesh3d"
           }
          ],
          "parcoords": [
           {
            "line": {
             "colorbar": {
              "outlinewidth": 0,
              "ticks": ""
             }
            },
            "type": "parcoords"
           }
          ],
          "pie": [
           {
            "automargin": true,
            "type": "pie"
           }
          ],
          "scatter": [
           {
            "fillpattern": {
             "fillmode": "overlay",
             "size": 10,
             "solidity": 0.2
            },
            "type": "scatter"
           }
          ],
          "scatter3d": [
           {
            "line": {
             "colorbar": {
              "outlinewidth": 0,
              "ticks": ""
             }
            },
            "marker": {
             "colorbar": {
              "outlinewidth": 0,
              "ticks": ""
             }
            },
            "type": "scatter3d"
           }
          ],
          "scattercarpet": [
           {
            "marker": {
             "colorbar": {
              "outlinewidth": 0,
              "ticks": ""
             }
            },
            "type": "scattercarpet"
           }
          ],
          "scattergeo": [
           {
            "marker": {
             "colorbar": {
              "outlinewidth": 0,
              "ticks": ""
             }
            },
            "type": "scattergeo"
           }
          ],
          "scattergl": [
           {
            "marker": {
             "colorbar": {
              "outlinewidth": 0,
              "ticks": ""
             }
            },
            "type": "scattergl"
           }
          ],
          "scattermapbox": [
           {
            "marker": {
             "colorbar": {
              "outlinewidth": 0,
              "ticks": ""
             }
            },
            "type": "scattermapbox"
           }
          ],
          "scatterpolar": [
           {
            "marker": {
             "colorbar": {
              "outlinewidth": 0,
              "ticks": ""
             }
            },
            "type": "scatterpolar"
           }
          ],
          "scatterpolargl": [
           {
            "marker": {
             "colorbar": {
              "outlinewidth": 0,
              "ticks": ""
             }
            },
            "type": "scatterpolargl"
           }
          ],
          "scatterternary": [
           {
            "marker": {
             "colorbar": {
              "outlinewidth": 0,
              "ticks": ""
             }
            },
            "type": "scatterternary"
           }
          ],
          "surface": [
           {
            "colorbar": {
             "outlinewidth": 0,
             "ticks": ""
            },
            "colorscale": [
             [
              0,
              "#0d0887"
             ],
             [
              0.1111111111111111,
              "#46039f"
             ],
             [
              0.2222222222222222,
              "#7201a8"
             ],
             [
              0.3333333333333333,
              "#9c179e"
             ],
             [
              0.4444444444444444,
              "#bd3786"
             ],
             [
              0.5555555555555556,
              "#d8576b"
             ],
             [
              0.6666666666666666,
              "#ed7953"
             ],
             [
              0.7777777777777778,
              "#fb9f3a"
             ],
             [
              0.8888888888888888,
              "#fdca26"
             ],
             [
              1,
              "#f0f921"
             ]
            ],
            "type": "surface"
           }
          ],
          "table": [
           {
            "cells": {
             "fill": {
              "color": "#EBF0F8"
             },
             "line": {
              "color": "white"
             }
            },
            "header": {
             "fill": {
              "color": "#C8D4E3"
             },
             "line": {
              "color": "white"
             }
            },
            "type": "table"
           }
          ]
         },
         "layout": {
          "annotationdefaults": {
           "arrowcolor": "#2a3f5f",
           "arrowhead": 0,
           "arrowwidth": 1
          },
          "autotypenumbers": "strict",
          "coloraxis": {
           "colorbar": {
            "outlinewidth": 0,
            "ticks": ""
           }
          },
          "colorscale": {
           "diverging": [
            [
             0,
             "#8e0152"
            ],
            [
             0.1,
             "#c51b7d"
            ],
            [
             0.2,
             "#de77ae"
            ],
            [
             0.3,
             "#f1b6da"
            ],
            [
             0.4,
             "#fde0ef"
            ],
            [
             0.5,
             "#f7f7f7"
            ],
            [
             0.6,
             "#e6f5d0"
            ],
            [
             0.7,
             "#b8e186"
            ],
            [
             0.8,
             "#7fbc41"
            ],
            [
             0.9,
             "#4d9221"
            ],
            [
             1,
             "#276419"
            ]
           ],
           "sequential": [
            [
             0,
             "#0d0887"
            ],
            [
             0.1111111111111111,
             "#46039f"
            ],
            [
             0.2222222222222222,
             "#7201a8"
            ],
            [
             0.3333333333333333,
             "#9c179e"
            ],
            [
             0.4444444444444444,
             "#bd3786"
            ],
            [
             0.5555555555555556,
             "#d8576b"
            ],
            [
             0.6666666666666666,
             "#ed7953"
            ],
            [
             0.7777777777777778,
             "#fb9f3a"
            ],
            [
             0.8888888888888888,
             "#fdca26"
            ],
            [
             1,
             "#f0f921"
            ]
           ],
           "sequentialminus": [
            [
             0,
             "#0d0887"
            ],
            [
             0.1111111111111111,
             "#46039f"
            ],
            [
             0.2222222222222222,
             "#7201a8"
            ],
            [
             0.3333333333333333,
             "#9c179e"
            ],
            [
             0.4444444444444444,
             "#bd3786"
            ],
            [
             0.5555555555555556,
             "#d8576b"
            ],
            [
             0.6666666666666666,
             "#ed7953"
            ],
            [
             0.7777777777777778,
             "#fb9f3a"
            ],
            [
             0.8888888888888888,
             "#fdca26"
            ],
            [
             1,
             "#f0f921"
            ]
           ]
          },
          "colorway": [
           "#636efa",
           "#EF553B",
           "#00cc96",
           "#ab63fa",
           "#FFA15A",
           "#19d3f3",
           "#FF6692",
           "#B6E880",
           "#FF97FF",
           "#FECB52"
          ],
          "font": {
           "color": "#2a3f5f"
          },
          "geo": {
           "bgcolor": "white",
           "lakecolor": "white",
           "landcolor": "#E5ECF6",
           "showlakes": true,
           "showland": true,
           "subunitcolor": "white"
          },
          "hoverlabel": {
           "align": "left"
          },
          "hovermode": "closest",
          "mapbox": {
           "style": "light"
          },
          "paper_bgcolor": "white",
          "plot_bgcolor": "#E5ECF6",
          "polar": {
           "angularaxis": {
            "gridcolor": "white",
            "linecolor": "white",
            "ticks": ""
           },
           "bgcolor": "#E5ECF6",
           "radialaxis": {
            "gridcolor": "white",
            "linecolor": "white",
            "ticks": ""
           }
          },
          "scene": {
           "xaxis": {
            "backgroundcolor": "#E5ECF6",
            "gridcolor": "white",
            "gridwidth": 2,
            "linecolor": "white",
            "showbackground": true,
            "ticks": "",
            "zerolinecolor": "white"
           },
           "yaxis": {
            "backgroundcolor": "#E5ECF6",
            "gridcolor": "white",
            "gridwidth": 2,
            "linecolor": "white",
            "showbackground": true,
            "ticks": "",
            "zerolinecolor": "white"
           },
           "zaxis": {
            "backgroundcolor": "#E5ECF6",
            "gridcolor": "white",
            "gridwidth": 2,
            "linecolor": "white",
            "showbackground": true,
            "ticks": "",
            "zerolinecolor": "white"
           }
          },
          "shapedefaults": {
           "line": {
            "color": "#2a3f5f"
           }
          },
          "ternary": {
           "aaxis": {
            "gridcolor": "white",
            "linecolor": "white",
            "ticks": ""
           },
           "baxis": {
            "gridcolor": "white",
            "linecolor": "white",
            "ticks": ""
           },
           "bgcolor": "#E5ECF6",
           "caxis": {
            "gridcolor": "white",
            "linecolor": "white",
            "ticks": ""
           }
          },
          "title": {
           "x": 0.05
          },
          "xaxis": {
           "automargin": true,
           "gridcolor": "white",
           "linecolor": "white",
           "ticks": "",
           "title": {
            "standoff": 15
           },
           "zerolinecolor": "white",
           "zerolinewidth": 2
          },
          "yaxis": {
           "automargin": true,
           "gridcolor": "white",
           "linecolor": "white",
           "ticks": "",
           "title": {
            "standoff": 15
           },
           "zerolinecolor": "white",
           "zerolinewidth": 2
          }
         }
        },
        "title": {
         "text": "<b>Histograma de errores</b>",
         "x": 0.5
        },
        "width": 1000,
        "xaxis": {
         "anchor": "y",
         "domain": [
          0,
          1
         ],
         "title": {
          "text": "Error"
         }
        },
        "yaxis": {
         "anchor": "x",
         "domain": [
          0,
          1
         ],
         "title": {
          "text": "Frecuencia"
         }
        }
       }
      }
     },
     "metadata": {},
     "output_type": "display_data"
    }
   ],
   "source": [
    "# Creamos el histograma de errores en plotly\n",
    "import plotly.express as px\n",
    "fig = px.histogram(y_pred - y_test, nbins=60, labels={'x':'Error'})\n",
    "fig.update_layout(title_text='<b>Histograma de errores</b>',\n",
    "                    xaxis_title_text='Error',\n",
    "                    yaxis_title_text='Frecuencia')\n",
    "# Aumentamos el tamaño vertical y reducimos la anchura\n",
    "fig.update_layout(autosize=False, width=1000, height=500)\n",
    "# Eliminamos la leyenda\n",
    "fig.update_layout(showlegend=False)\n",
    "# Aumentamos el tamaño de la fuente a 20\n",
    "fig.update_layout(\n",
    "    font=dict(\n",
    "        size=20,\n",
    "    )\n",
    ")\n",
    "\n",
    "# Centramos el título\n",
    "fig.update_layout(title_x=0.5)\n"
   ]
  },
  {
   "cell_type": "code",
   "execution_count": 73,
   "metadata": {},
   "outputs": [
    {
     "data": {
      "application/vnd.plotly.v1+json": {
       "config": {
        "plotlyServerURL": "https://plot.ly"
       },
       "data": [
        {
         "mode": "markers",
         "name": "Predicciones",
         "type": "scatter",
         "x": [
          252,
          60,
          96,
          36,
          72,
          60,
          180,
          24,
          12,
          12,
          36,
          72,
          24,
          108,
          12,
          72,
          120,
          12,
          48,
          36,
          48,
          48,
          36,
          48,
          48,
          60,
          24,
          96,
          252,
          12,
          84,
          192,
          24,
          36,
          36,
          36,
          0,
          60,
          36,
          60,
          12,
          60,
          12,
          24,
          12,
          36,
          108,
          84,
          24,
          12,
          12,
          72,
          12,
          12,
          108,
          0,
          36,
          96,
          36,
          36,
          24,
          84,
          24,
          84,
          48,
          96,
          0,
          156,
          120,
          48,
          120,
          0,
          216,
          48,
          12,
          36,
          36,
          36,
          132,
          120,
          12,
          120,
          36,
          12,
          84,
          192,
          84,
          72,
          396,
          132,
          12,
          0,
          36,
          0,
          12,
          12,
          24,
          72,
          120,
          72,
          84,
          0,
          48,
          36,
          12,
          12,
          36,
          108,
          12,
          60,
          12,
          24,
          0,
          12,
          60,
          0,
          12,
          36,
          12,
          24,
          24,
          12,
          24,
          36,
          108,
          0,
          0,
          84,
          12,
          24,
          0,
          12,
          24,
          120,
          12,
          0,
          120,
          84,
          12,
          36,
          0,
          60,
          12
         ],
         "y": [
          169.390314884217,
          60.79961872986338,
          119.08121226464334,
          32.31184537886692,
          108.41976689436255,
          53.27351801360673,
          189.80514437046946,
          16.039419718814475,
          18.540001528586206,
          19.900845947760583,
          48.207890883573185,
          100.26569472262995,
          15.245560502115268,
          129.08285637690258,
          2.258639946299148,
          63.75519327531984,
          111.46631125922289,
          18.604431645736604,
          53.25234023331396,
          46.00506161189324,
          72.50627693038354,
          87.98564007209986,
          53.109532720997635,
          71.29374621999187,
          40.06897520169615,
          96.20728468929815,
          14.134520404769969,
          70.96932190620706,
          191.2308763767172,
          3.0300095432478145,
          80.12621189714362,
          154.91804632891842,
          23.73766268320163,
          48.77606085474088,
          59.03461084574901,
          45.24051186560966,
          0.36125044878027524,
          53.015034554867626,
          48.9887290729138,
          62.720408269223135,
          30.160917110188905,
          74.15225007709199,
          18.76933614382268,
          24.664630308132555,
          8.487782423196553,
          41.55180399787297,
          123.02726866330082,
          71.48800196612228,
          8.91273547586514,
          22.02736258788739,
          34.56815719933154,
          57.72956114204423,
          21.71336775126811,
          5.244502659734714,
          144.28726078451547,
          2.892755398782267,
          48.07235391978641,
          84.62797217739885,
          32.5556824970451,
          32.853819379218685,
          15.151713022863746,
          160.04895986294713,
          19.450032697316306,
          74.57231362389132,
          62.48755689069729,
          81.88908782529359,
          6.422240305311401,
          127.61139729142322,
          161.31628265375272,
          65.76884841597672,
          98.39017186683114,
          -1.7979000677976131,
          189.68595224579929,
          95.67271386397275,
          5.152208773294767,
          46.499698561453364,
          40.01180308403345,
          42.67545902448253,
          93.08194042152637,
          130.0314761407826,
          13.696573243931073,
          100.93739611123769,
          57.348166204864675,
          14.209162011851337,
          74.07146697413982,
          146.2460902763692,
          106.17710279260173,
          73.14199476139603,
          260.81002891603765,
          139.592375610513,
          13.018780070493328,
          9.72389704671889,
          44.918291644642714,
          20.98176713901613,
          21.509317614445074,
          8.266501785329975,
          14.829681486728983,
          91.07767284536199,
          119.96608565268004,
          68.82203667202803,
          81.87707420394986,
          16.85322774152939,
          36.06058729557721,
          47.179371165758496,
          10.455645600281091,
          0.23996758362832793,
          47.967497071335174,
          113.12703860515603,
          24.254480763622077,
          70.87482521164281,
          13.858984613830938,
          19.34432107127124,
          10.306856660112103,
          13.121243217379757,
          63.01915025543108,
          -2.559364130981102,
          -2.9616613972460115,
          33.50756652387168,
          13.11980634966439,
          20.789897806718983,
          17.009555909873008,
          14.863352573578627,
          19.095704452627075,
          23.18130925612085,
          128.5538702121829,
          -2.19238015284904,
          2.967221581774396,
          138.30898282734145,
          20.047995330221614,
          0.780265442448659,
          1.1545101470096952,
          18.56372069330101,
          14.147418078170187,
          136.04930905034843,
          21.216086884332775,
          0.23458592738077755,
          114.20280650804199,
          146.6870368564441,
          13.427909109214841,
          58.40511823000275,
          7.505210162145634,
          61.818146491064546,
          12.140115982934855
         ]
        },
        {
         "mode": "lines",
         "name": "Recta de regresión",
         "type": "scatter",
         "x": [
          252,
          60,
          96,
          36,
          72,
          60,
          180,
          24,
          12,
          12,
          36,
          72,
          24,
          108,
          12,
          72,
          120,
          12,
          48,
          36,
          48,
          48,
          36,
          48,
          48,
          60,
          24,
          96,
          252,
          12,
          84,
          192,
          24,
          36,
          36,
          36,
          0,
          60,
          36,
          60,
          12,
          60,
          12,
          24,
          12,
          36,
          108,
          84,
          24,
          12,
          12,
          72,
          12,
          12,
          108,
          0,
          36,
          96,
          36,
          36,
          24,
          84,
          24,
          84,
          48,
          96,
          0,
          156,
          120,
          48,
          120,
          0,
          216,
          48,
          12,
          36,
          36,
          36,
          132,
          120,
          12,
          120,
          36,
          12,
          84,
          192,
          84,
          72,
          396,
          132,
          12,
          0,
          36,
          0,
          12,
          12,
          24,
          72,
          120,
          72,
          84,
          0,
          48,
          36,
          12,
          12,
          36,
          108,
          12,
          60,
          12,
          24,
          0,
          12,
          60,
          0,
          12,
          36,
          12,
          24,
          24,
          12,
          24,
          36,
          108,
          0,
          0,
          84,
          12,
          24,
          0,
          12,
          24,
          120,
          12,
          0,
          120,
          84,
          12,
          36,
          0,
          60,
          12
         ],
         "y": [
          252,
          60,
          96,
          36,
          72,
          60,
          180,
          24,
          12,
          12,
          36,
          72,
          24,
          108,
          12,
          72,
          120,
          12,
          48,
          36,
          48,
          48,
          36,
          48,
          48,
          60,
          24,
          96,
          252,
          12,
          84,
          192,
          24,
          36,
          36,
          36,
          0,
          60,
          36,
          60,
          12,
          60,
          12,
          24,
          12,
          36,
          108,
          84,
          24,
          12,
          12,
          72,
          12,
          12,
          108,
          0,
          36,
          96,
          36,
          36,
          24,
          84,
          24,
          84,
          48,
          96,
          0,
          156,
          120,
          48,
          120,
          0,
          216,
          48,
          12,
          36,
          36,
          36,
          132,
          120,
          12,
          120,
          36,
          12,
          84,
          192,
          84,
          72,
          396,
          132,
          12,
          0,
          36,
          0,
          12,
          12,
          24,
          72,
          120,
          72,
          84,
          0,
          48,
          36,
          12,
          12,
          36,
          108,
          12,
          60,
          12,
          24,
          0,
          12,
          60,
          0,
          12,
          36,
          12,
          24,
          24,
          12,
          24,
          36,
          108,
          0,
          0,
          84,
          12,
          24,
          0,
          12,
          24,
          120,
          12,
          0,
          120,
          84,
          12,
          36,
          0,
          60,
          12
         ]
        }
       ],
       "layout": {
        "autosize": false,
        "font": {
         "size": 20
        },
        "height": 500,
        "template": {
         "data": {
          "bar": [
           {
            "error_x": {
             "color": "#2a3f5f"
            },
            "error_y": {
             "color": "#2a3f5f"
            },
            "marker": {
             "line": {
              "color": "#E5ECF6",
              "width": 0.5
             },
             "pattern": {
              "fillmode": "overlay",
              "size": 10,
              "solidity": 0.2
             }
            },
            "type": "bar"
           }
          ],
          "barpolar": [
           {
            "marker": {
             "line": {
              "color": "#E5ECF6",
              "width": 0.5
             },
             "pattern": {
              "fillmode": "overlay",
              "size": 10,
              "solidity": 0.2
             }
            },
            "type": "barpolar"
           }
          ],
          "carpet": [
           {
            "aaxis": {
             "endlinecolor": "#2a3f5f",
             "gridcolor": "white",
             "linecolor": "white",
             "minorgridcolor": "white",
             "startlinecolor": "#2a3f5f"
            },
            "baxis": {
             "endlinecolor": "#2a3f5f",
             "gridcolor": "white",
             "linecolor": "white",
             "minorgridcolor": "white",
             "startlinecolor": "#2a3f5f"
            },
            "type": "carpet"
           }
          ],
          "choropleth": [
           {
            "colorbar": {
             "outlinewidth": 0,
             "ticks": ""
            },
            "type": "choropleth"
           }
          ],
          "contour": [
           {
            "colorbar": {
             "outlinewidth": 0,
             "ticks": ""
            },
            "colorscale": [
             [
              0,
              "#0d0887"
             ],
             [
              0.1111111111111111,
              "#46039f"
             ],
             [
              0.2222222222222222,
              "#7201a8"
             ],
             [
              0.3333333333333333,
              "#9c179e"
             ],
             [
              0.4444444444444444,
              "#bd3786"
             ],
             [
              0.5555555555555556,
              "#d8576b"
             ],
             [
              0.6666666666666666,
              "#ed7953"
             ],
             [
              0.7777777777777778,
              "#fb9f3a"
             ],
             [
              0.8888888888888888,
              "#fdca26"
             ],
             [
              1,
              "#f0f921"
             ]
            ],
            "type": "contour"
           }
          ],
          "contourcarpet": [
           {
            "colorbar": {
             "outlinewidth": 0,
             "ticks": ""
            },
            "type": "contourcarpet"
           }
          ],
          "heatmap": [
           {
            "colorbar": {
             "outlinewidth": 0,
             "ticks": ""
            },
            "colorscale": [
             [
              0,
              "#0d0887"
             ],
             [
              0.1111111111111111,
              "#46039f"
             ],
             [
              0.2222222222222222,
              "#7201a8"
             ],
             [
              0.3333333333333333,
              "#9c179e"
             ],
             [
              0.4444444444444444,
              "#bd3786"
             ],
             [
              0.5555555555555556,
              "#d8576b"
             ],
             [
              0.6666666666666666,
              "#ed7953"
             ],
             [
              0.7777777777777778,
              "#fb9f3a"
             ],
             [
              0.8888888888888888,
              "#fdca26"
             ],
             [
              1,
              "#f0f921"
             ]
            ],
            "type": "heatmap"
           }
          ],
          "heatmapgl": [
           {
            "colorbar": {
             "outlinewidth": 0,
             "ticks": ""
            },
            "colorscale": [
             [
              0,
              "#0d0887"
             ],
             [
              0.1111111111111111,
              "#46039f"
             ],
             [
              0.2222222222222222,
              "#7201a8"
             ],
             [
              0.3333333333333333,
              "#9c179e"
             ],
             [
              0.4444444444444444,
              "#bd3786"
             ],
             [
              0.5555555555555556,
              "#d8576b"
             ],
             [
              0.6666666666666666,
              "#ed7953"
             ],
             [
              0.7777777777777778,
              "#fb9f3a"
             ],
             [
              0.8888888888888888,
              "#fdca26"
             ],
             [
              1,
              "#f0f921"
             ]
            ],
            "type": "heatmapgl"
           }
          ],
          "histogram": [
           {
            "marker": {
             "pattern": {
              "fillmode": "overlay",
              "size": 10,
              "solidity": 0.2
             }
            },
            "type": "histogram"
           }
          ],
          "histogram2d": [
           {
            "colorbar": {
             "outlinewidth": 0,
             "ticks": ""
            },
            "colorscale": [
             [
              0,
              "#0d0887"
             ],
             [
              0.1111111111111111,
              "#46039f"
             ],
             [
              0.2222222222222222,
              "#7201a8"
             ],
             [
              0.3333333333333333,
              "#9c179e"
             ],
             [
              0.4444444444444444,
              "#bd3786"
             ],
             [
              0.5555555555555556,
              "#d8576b"
             ],
             [
              0.6666666666666666,
              "#ed7953"
             ],
             [
              0.7777777777777778,
              "#fb9f3a"
             ],
             [
              0.8888888888888888,
              "#fdca26"
             ],
             [
              1,
              "#f0f921"
             ]
            ],
            "type": "histogram2d"
           }
          ],
          "histogram2dcontour": [
           {
            "colorbar": {
             "outlinewidth": 0,
             "ticks": ""
            },
            "colorscale": [
             [
              0,
              "#0d0887"
             ],
             [
              0.1111111111111111,
              "#46039f"
             ],
             [
              0.2222222222222222,
              "#7201a8"
             ],
             [
              0.3333333333333333,
              "#9c179e"
             ],
             [
              0.4444444444444444,
              "#bd3786"
             ],
             [
              0.5555555555555556,
              "#d8576b"
             ],
             [
              0.6666666666666666,
              "#ed7953"
             ],
             [
              0.7777777777777778,
              "#fb9f3a"
             ],
             [
              0.8888888888888888,
              "#fdca26"
             ],
             [
              1,
              "#f0f921"
             ]
            ],
            "type": "histogram2dcontour"
           }
          ],
          "mesh3d": [
           {
            "colorbar": {
             "outlinewidth": 0,
             "ticks": ""
            },
            "type": "mesh3d"
           }
          ],
          "parcoords": [
           {
            "line": {
             "colorbar": {
              "outlinewidth": 0,
              "ticks": ""
             }
            },
            "type": "parcoords"
           }
          ],
          "pie": [
           {
            "automargin": true,
            "type": "pie"
           }
          ],
          "scatter": [
           {
            "fillpattern": {
             "fillmode": "overlay",
             "size": 10,
             "solidity": 0.2
            },
            "type": "scatter"
           }
          ],
          "scatter3d": [
           {
            "line": {
             "colorbar": {
              "outlinewidth": 0,
              "ticks": ""
             }
            },
            "marker": {
             "colorbar": {
              "outlinewidth": 0,
              "ticks": ""
             }
            },
            "type": "scatter3d"
           }
          ],
          "scattercarpet": [
           {
            "marker": {
             "colorbar": {
              "outlinewidth": 0,
              "ticks": ""
             }
            },
            "type": "scattercarpet"
           }
          ],
          "scattergeo": [
           {
            "marker": {
             "colorbar": {
              "outlinewidth": 0,
              "ticks": ""
             }
            },
            "type": "scattergeo"
           }
          ],
          "scattergl": [
           {
            "marker": {
             "colorbar": {
              "outlinewidth": 0,
              "ticks": ""
             }
            },
            "type": "scattergl"
           }
          ],
          "scattermapbox": [
           {
            "marker": {
             "colorbar": {
              "outlinewidth": 0,
              "ticks": ""
             }
            },
            "type": "scattermapbox"
           }
          ],
          "scatterpolar": [
           {
            "marker": {
             "colorbar": {
              "outlinewidth": 0,
              "ticks": ""
             }
            },
            "type": "scatterpolar"
           }
          ],
          "scatterpolargl": [
           {
            "marker": {
             "colorbar": {
              "outlinewidth": 0,
              "ticks": ""
             }
            },
            "type": "scatterpolargl"
           }
          ],
          "scatterternary": [
           {
            "marker": {
             "colorbar": {
              "outlinewidth": 0,
              "ticks": ""
             }
            },
            "type": "scatterternary"
           }
          ],
          "surface": [
           {
            "colorbar": {
             "outlinewidth": 0,
             "ticks": ""
            },
            "colorscale": [
             [
              0,
              "#0d0887"
             ],
             [
              0.1111111111111111,
              "#46039f"
             ],
             [
              0.2222222222222222,
              "#7201a8"
             ],
             [
              0.3333333333333333,
              "#9c179e"
             ],
             [
              0.4444444444444444,
              "#bd3786"
             ],
             [
              0.5555555555555556,
              "#d8576b"
             ],
             [
              0.6666666666666666,
              "#ed7953"
             ],
             [
              0.7777777777777778,
              "#fb9f3a"
             ],
             [
              0.8888888888888888,
              "#fdca26"
             ],
             [
              1,
              "#f0f921"
             ]
            ],
            "type": "surface"
           }
          ],
          "table": [
           {
            "cells": {
             "fill": {
              "color": "#EBF0F8"
             },
             "line": {
              "color": "white"
             }
            },
            "header": {
             "fill": {
              "color": "#C8D4E3"
             },
             "line": {
              "color": "white"
             }
            },
            "type": "table"
           }
          ]
         },
         "layout": {
          "annotationdefaults": {
           "arrowcolor": "#2a3f5f",
           "arrowhead": 0,
           "arrowwidth": 1
          },
          "autotypenumbers": "strict",
          "coloraxis": {
           "colorbar": {
            "outlinewidth": 0,
            "ticks": ""
           }
          },
          "colorscale": {
           "diverging": [
            [
             0,
             "#8e0152"
            ],
            [
             0.1,
             "#c51b7d"
            ],
            [
             0.2,
             "#de77ae"
            ],
            [
             0.3,
             "#f1b6da"
            ],
            [
             0.4,
             "#fde0ef"
            ],
            [
             0.5,
             "#f7f7f7"
            ],
            [
             0.6,
             "#e6f5d0"
            ],
            [
             0.7,
             "#b8e186"
            ],
            [
             0.8,
             "#7fbc41"
            ],
            [
             0.9,
             "#4d9221"
            ],
            [
             1,
             "#276419"
            ]
           ],
           "sequential": [
            [
             0,
             "#0d0887"
            ],
            [
             0.1111111111111111,
             "#46039f"
            ],
            [
             0.2222222222222222,
             "#7201a8"
            ],
            [
             0.3333333333333333,
             "#9c179e"
            ],
            [
             0.4444444444444444,
             "#bd3786"
            ],
            [
             0.5555555555555556,
             "#d8576b"
            ],
            [
             0.6666666666666666,
             "#ed7953"
            ],
            [
             0.7777777777777778,
             "#fb9f3a"
            ],
            [
             0.8888888888888888,
             "#fdca26"
            ],
            [
             1,
             "#f0f921"
            ]
           ],
           "sequentialminus": [
            [
             0,
             "#0d0887"
            ],
            [
             0.1111111111111111,
             "#46039f"
            ],
            [
             0.2222222222222222,
             "#7201a8"
            ],
            [
             0.3333333333333333,
             "#9c179e"
            ],
            [
             0.4444444444444444,
             "#bd3786"
            ],
            [
             0.5555555555555556,
             "#d8576b"
            ],
            [
             0.6666666666666666,
             "#ed7953"
            ],
            [
             0.7777777777777778,
             "#fb9f3a"
            ],
            [
             0.8888888888888888,
             "#fdca26"
            ],
            [
             1,
             "#f0f921"
            ]
           ]
          },
          "colorway": [
           "#636efa",
           "#EF553B",
           "#00cc96",
           "#ab63fa",
           "#FFA15A",
           "#19d3f3",
           "#FF6692",
           "#B6E880",
           "#FF97FF",
           "#FECB52"
          ],
          "font": {
           "color": "#2a3f5f"
          },
          "geo": {
           "bgcolor": "white",
           "lakecolor": "white",
           "landcolor": "#E5ECF6",
           "showlakes": true,
           "showland": true,
           "subunitcolor": "white"
          },
          "hoverlabel": {
           "align": "left"
          },
          "hovermode": "closest",
          "mapbox": {
           "style": "light"
          },
          "paper_bgcolor": "white",
          "plot_bgcolor": "#E5ECF6",
          "polar": {
           "angularaxis": {
            "gridcolor": "white",
            "linecolor": "white",
            "ticks": ""
           },
           "bgcolor": "#E5ECF6",
           "radialaxis": {
            "gridcolor": "white",
            "linecolor": "white",
            "ticks": ""
           }
          },
          "scene": {
           "xaxis": {
            "backgroundcolor": "#E5ECF6",
            "gridcolor": "white",
            "gridwidth": 2,
            "linecolor": "white",
            "showbackground": true,
            "ticks": "",
            "zerolinecolor": "white"
           },
           "yaxis": {
            "backgroundcolor": "#E5ECF6",
            "gridcolor": "white",
            "gridwidth": 2,
            "linecolor": "white",
            "showbackground": true,
            "ticks": "",
            "zerolinecolor": "white"
           },
           "zaxis": {
            "backgroundcolor": "#E5ECF6",
            "gridcolor": "white",
            "gridwidth": 2,
            "linecolor": "white",
            "showbackground": true,
            "ticks": "",
            "zerolinecolor": "white"
           }
          },
          "shapedefaults": {
           "line": {
            "color": "#2a3f5f"
           }
          },
          "ternary": {
           "aaxis": {
            "gridcolor": "white",
            "linecolor": "white",
            "ticks": ""
           },
           "baxis": {
            "gridcolor": "white",
            "linecolor": "white",
            "ticks": ""
           },
           "bgcolor": "#E5ECF6",
           "caxis": {
            "gridcolor": "white",
            "linecolor": "white",
            "ticks": ""
           }
          },
          "title": {
           "x": 0.05
          },
          "xaxis": {
           "automargin": true,
           "gridcolor": "white",
           "linecolor": "white",
           "ticks": "",
           "title": {
            "standoff": 15
           },
           "zerolinecolor": "white",
           "zerolinewidth": 2
          },
          "yaxis": {
           "automargin": true,
           "gridcolor": "white",
           "linecolor": "white",
           "ticks": "",
           "title": {
            "standoff": 15
           },
           "zerolinecolor": "white",
           "zerolinewidth": 2
          }
         }
        },
        "title": {
         "text": "<b>Recta de regresión</b>",
         "x": 0.5
        },
        "width": 1000,
        "xaxis": {
         "title": {
          "text": "Valores reales"
         }
        },
        "yaxis": {
         "title": {
          "text": "Predicciones"
         }
        }
       }
      }
     },
     "metadata": {},
     "output_type": "display_data"
    }
   ],
   "source": [
    "# Trazamos la recta de regresión con plotly\n",
    "import plotly.graph_objects as go\n",
    "fig = go.Figure()\n",
    "fig.add_trace(go.Scatter(x=y_test, y=y_pred,\n",
    "                    mode='markers',\n",
    "                    name='Predicciones'))\n",
    "fig.add_trace(go.Scatter(x=y_test, y=y_test,\n",
    "\n",
    "                    mode='lines',   \n",
    "                    name='Recta de regresión'))\n",
    "fig.update_layout(title_text='<b>Recta de regresión</b>',\n",
    "                    xaxis_title_text='Valores reales',\n",
    "                    yaxis_title_text='Predicciones')\n",
    "# Aumentamos el tamaño vertical y reducimos la anchura\n",
    "fig.update_layout(autosize=False, width=1000, height=500)\n",
    "# Centramos el título\n",
    "fig.update_layout(title_x=0.5)\n",
    "# Añadimos el tamaño de las fuentes de los ejes\n",
    "fig.update_layout(\n",
    "    font=dict(\n",
    "        size=20,\n",
    "    )\n",
    ")\n",
    "\n",
    "# Lo mostramos\n",
    "fig.show()\n"
   ]
  },
  {
   "attachments": {},
   "cell_type": "markdown",
   "metadata": {},
   "source": [
    "### Métricas"
   ]
  },
  {
   "cell_type": "code",
   "execution_count": 64,
   "metadata": {},
   "outputs": [
    {
     "name": "stdout",
     "output_type": "stream",
     "text": [
      "0.8872451828129375\n",
      "0.84577792208433\n"
     ]
    }
   ],
   "source": [
    "train_score = voting_regressor.score(X_train_scaled, y_train)\n",
    "test_score = voting_regressor.score(X_test_scaled, y_test)\n",
    "print(train_score)\n",
    "print(test_score)"
   ]
  },
  {
   "cell_type": "code",
   "execution_count": 67,
   "metadata": {},
   "outputs": [
    {
     "name": "stdout",
     "output_type": "stream",
     "text": [
      "MSE: 519.5943849551633\n",
      "RMSE: 22.794613068774897\n",
      "MAE: 14.426893254707243\n",
      "R2: 0.84577792208433\n"
     ]
    }
   ],
   "source": [
    "# Predecir los valores de salida para los datos de test con el mejor modelo\n",
    "y_pred = voting_regressor.predict(X_test_scaled)\n",
    "# Redondeamos y_pred\n",
    "#y_pred = np.round(y_pred)\n",
    "\n",
    "# Evaluar el rendimiento del mejor modelo\n",
    "mse = mean_squared_error(y_test, y_pred)\n",
    "rmse = np.sqrt(mse)\n",
    "mae = mean_absolute_error(y_test, y_pred)\n",
    "r2 = r2_score(y_test, y_pred)\n",
    "\n",
    "print('MSE:', mse)\n",
    "print('RMSE:', np.sqrt(mse))\n",
    "print('MAE:', mean_absolute_error(y_test, y_pred))\n",
    "print('R2:', r2_score(y_test, y_pred))\n",
    "#print('Mejores hiperparámetros:', best_params)\n",
    "metricas = pd.DataFrame({'MSE': [mse], 'RMSE': [rmse], 'MAE': [mae], 'R2': [r2]})\n",
    "metricas.to_csv('./Métricas/Métricas_votingregressor.csv', index=False)"
   ]
  },
  {
   "cell_type": "code",
   "execution_count": null,
   "metadata": {},
   "outputs": [
    {
     "name": "stdout",
     "output_type": "stream",
     "text": [
      "Puntuación en entrenamiento: 0.8872451828129375\n",
      "Puntuación en prueba: 0.84577792208433\n",
      "Puntuaciones en validación cruzada: [0.89087478 0.83869275 0.7769361  0.7134483  0.84788123 0.85452754\n",
      " 0.81912396 0.87609723 0.87622074 0.77849338]\n",
      "Media de puntuaciones en validación cruzada: 0.8272296005657447\n"
     ]
    }
   ],
   "source": [
    "# Calculo la puntuacion train_score y test_score\n",
    "train_score = voting_regressor.score(X_train_scaled, y_train)\n",
    "test_score = voting_regressor.score(X_test_scaled, y_test)\n",
    "# Calvulo la puntuación en validación cruzada\n",
    "cv_scores = cross_val_score(voting_regressor, X, y, cv=10)\n",
    "print(\"Puntuación en entrenamiento:\", train_score)\n",
    "print(\"Puntuación en prueba:\", test_score)\n",
    "print(\"Puntuaciones en validación cruzada:\", cv_scores)\n",
    "# Imprimimos la media de cv_scores\n",
    "print(\"Media de puntuaciones en validación cruzada:\", cv_scores.mean())\n",
    "\n",
    "# Exportamos a csv train_score, test_score, media de cv_scores\n",
    "scores = pd.DataFrame({'train_score': [train_score], 'test_score': [test_score], 'cv_scores_mean': [cv_scores.mean()]})\n",
    "scores.to_csv('./Métricas/Scores_votingregressor.csv', index=False)\n"
   ]
  },
  {
   "attachments": {},
   "cell_type": "markdown",
   "metadata": {},
   "source": [
    "### Exportar modelo"
   ]
  },
  {
   "cell_type": "code",
   "execution_count": null,
   "metadata": {},
   "outputs": [
    {
     "name": "stdout",
     "output_type": "stream",
     "text": [
      "El modelo se ha guardado exitosamente en ./JP_12_06_VotingRegressor.pickle.\n"
     ]
    }
   ],
   "source": [
    "nombre_archivo = './JP_12_06_VotingRegressor.pickle'\n",
    "modelo = voting_regressor\n",
    "import pickle\n",
    "try:\n",
    "    with open(nombre_archivo, 'wb') as archivo:\n",
    "        pickle.dump(modelo, archivo)\n",
    "    print(f\"El modelo se ha guardado exitosamente en {nombre_archivo}.\")\n",
    "except IOError:\n",
    "    print(\"Error: No se pudo guardar el modelo. Permiso denegado.\")"
   ]
  },
  {
   "attachments": {},
   "cell_type": "markdown",
   "metadata": {},
   "source": [
    "### Evaluación de resultados, negativos, gestión de negativos..."
   ]
  },
  {
   "cell_type": "code",
   "execution_count": null,
   "metadata": {},
   "outputs": [
    {
     "data": {
      "text/plain": [
       "array([ 1.69390315e+02,  6.07996187e+01,  1.19081212e+02,  3.23118454e+01,\n",
       "        1.08419767e+02,  5.32735180e+01,  1.89805144e+02,  1.60394197e+01,\n",
       "        1.85400015e+01,  1.99008459e+01,  4.82078909e+01,  1.00265695e+02,\n",
       "        1.52455605e+01,  1.29082856e+02,  2.25863995e+00,  6.37551933e+01,\n",
       "        1.11466311e+02,  1.86044316e+01,  5.32523402e+01,  4.60050616e+01,\n",
       "        7.25062769e+01,  8.79856401e+01,  5.31095327e+01,  7.12937462e+01,\n",
       "        4.00689752e+01,  9.62072847e+01,  1.41345204e+01,  7.09693219e+01,\n",
       "        1.91230876e+02,  3.03000954e+00,  8.01262119e+01,  1.54918046e+02,\n",
       "        2.37376627e+01,  4.87760609e+01,  5.90346108e+01,  4.52405119e+01,\n",
       "        3.61250449e-01,  5.30150346e+01,  4.89887291e+01,  6.27204083e+01,\n",
       "        3.01609171e+01,  7.41522501e+01,  1.87693361e+01,  2.46646303e+01,\n",
       "        8.48778242e+00,  4.15518040e+01,  1.23027269e+02,  7.14880020e+01,\n",
       "        8.91273548e+00,  2.20273626e+01,  3.45681572e+01,  5.77295611e+01,\n",
       "        2.17133678e+01,  5.24450266e+00,  1.44287261e+02,  2.89275540e+00,\n",
       "        4.80723539e+01,  8.46279722e+01,  3.25556825e+01,  3.28538194e+01,\n",
       "        1.51517130e+01,  1.60048960e+02,  1.94500327e+01,  7.45723136e+01,\n",
       "        6.24875569e+01,  8.18890878e+01,  6.42224031e+00,  1.27611397e+02,\n",
       "        1.61316283e+02,  6.57688484e+01,  9.83901719e+01, -1.79790007e+00,\n",
       "        1.89685952e+02,  9.56727139e+01,  5.15220877e+00,  4.64996986e+01,\n",
       "        4.00118031e+01,  4.26754590e+01,  9.30819404e+01,  1.30031476e+02,\n",
       "        1.36965732e+01,  1.00937396e+02,  5.73481662e+01,  1.42091620e+01,\n",
       "        7.40714670e+01,  1.46246090e+02,  1.06177103e+02,  7.31419948e+01,\n",
       "        2.60810029e+02,  1.39592376e+02,  1.30187801e+01,  9.72389705e+00,\n",
       "        4.49182916e+01,  2.09817671e+01,  2.15093176e+01,  8.26650179e+00,\n",
       "        1.48296815e+01,  9.10776728e+01,  1.19966086e+02,  6.88220367e+01,\n",
       "        8.18770742e+01,  1.68532277e+01,  3.60605873e+01,  4.71793712e+01,\n",
       "        1.04556456e+01,  2.39967584e-01,  4.79674971e+01,  1.13127039e+02,\n",
       "        2.42544808e+01,  7.08748252e+01,  1.38589846e+01,  1.93443211e+01,\n",
       "        1.03068567e+01,  1.31212432e+01,  6.30191503e+01, -2.55936413e+00,\n",
       "       -2.96166140e+00,  3.35075665e+01,  1.31198063e+01,  2.07898978e+01,\n",
       "        1.70095559e+01,  1.48633526e+01,  1.90957045e+01,  2.31813093e+01,\n",
       "        1.28553870e+02, -2.19238015e+00,  2.96722158e+00,  1.38308983e+02,\n",
       "        2.00479953e+01,  7.80265442e-01,  1.15451015e+00,  1.85637207e+01,\n",
       "        1.41474181e+01,  1.36049309e+02,  2.12160869e+01,  2.34585927e-01,\n",
       "        1.14202807e+02,  1.46687037e+02,  1.34279091e+01,  5.84051182e+01,\n",
       "        7.50521016e+00,  6.18181465e+01,  1.21401160e+01])"
      ]
     },
     "execution_count": 21,
     "metadata": {},
     "output_type": "execute_result"
    }
   ],
   "source": [
    "# # Hacemos una predicción de prueba\n",
    "#y_pred = best_model.predict(X_test)\n",
    "y_pred"
   ]
  },
  {
   "cell_type": "code",
   "execution_count": null,
   "metadata": {},
   "outputs": [
    {
     "data": {
      "text/plain": [
       "4"
      ]
     },
     "execution_count": 22,
     "metadata": {},
     "output_type": "execute_result"
    }
   ],
   "source": [
    "# contamos los valores negativos de LA PREDICCIÓN ORIGINAL BÁSICA\n",
    "y_pred[y_pred < 0].shape[0]\n"
   ]
  },
  {
   "cell_type": "code",
   "execution_count": null,
   "metadata": {},
   "outputs": [],
   "source": [
    "# Creo un nuevo dataset para predicciones a partir de las filas que tienen attrition = No\n",
    "data_pred = data_actual_original.copy()\n",
    "data_pred =data_pred.drop(columns_to_drop, axis = 1)\n",
    "\n",
    "meses_reales = data_pred['years_company'] *12\n",
    "data_pred.drop(['years_company'], axis = 1, inplace = True)\n",
    "\n",
    "data_pred_for_scale = data_pred.copy()\n",
    "\n",
    "\n",
    "data_pred_scaled = scaler.transform(data_pred_for_scale)\n",
    "\n",
    "# # # # # Hacemos una predicción con el modelo\n",
    "# y_pred = voting_regressor.predict(data_pred_scaled)\n",
    "\n",
    "# # # # # Añadimos la predicción al dataset\n",
    "# data_pred['meses_predichos'] = y_pred\n",
    "# # # # # Añadimos la columna meses_reales\n",
    "# data_pred['meses_reales'] = meses_reales\n",
    "# # # # # Añadimos la columna tiempo restante\n",
    "# data_pred['tiempo_restante'] = data_pred['meses_predichos'] - data_pred['meses_reales']\n"
   ]
  },
  {
   "cell_type": "code",
   "execution_count": null,
   "metadata": {},
   "outputs": [
    {
     "data": {
      "text/plain": [
       "array([130.12983509, 118.0443867 , 152.62058056, ..., 153.36135458,\n",
       "       150.72171776, 123.44193869])"
      ]
     },
     "execution_count": 61,
     "metadata": {},
     "output_type": "execute_result"
    }
   ],
   "source": [
    "y_pred"
   ]
  },
  {
   "cell_type": "code",
   "execution_count": null,
   "metadata": {},
   "outputs": [
    {
     "data": {
      "text/html": [
       "<div>\n",
       "<style scoped>\n",
       "    .dataframe tbody tr th:only-of-type {\n",
       "        vertical-align: middle;\n",
       "    }\n",
       "\n",
       "    .dataframe tbody tr th {\n",
       "        vertical-align: top;\n",
       "    }\n",
       "\n",
       "    .dataframe thead th {\n",
       "        text-align: right;\n",
       "    }\n",
       "</style>\n",
       "<table border=\"1\" class=\"dataframe\">\n",
       "  <thead>\n",
       "    <tr style=\"text-align: right;\">\n",
       "      <th></th>\n",
       "      <th>satisfaction</th>\n",
       "      <th>life_balance</th>\n",
       "      <th>travel</th>\n",
       "      <th>distance_home</th>\n",
       "      <th>job_level</th>\n",
       "      <th>marital_status</th>\n",
       "      <th>income</th>\n",
       "      <th>previous_companies</th>\n",
       "      <th>salary_hike</th>\n",
       "      <th>stock_option</th>\n",
       "      <th>training_ly</th>\n",
       "      <th>meses_predichos</th>\n",
       "      <th>meses_reales</th>\n",
       "      <th>tiempo_restante</th>\n",
       "    </tr>\n",
       "  </thead>\n",
       "  <tbody>\n",
       "    <tr>\n",
       "      <th>0</th>\n",
       "      <td>3</td>\n",
       "      <td>2</td>\n",
       "      <td>2</td>\n",
       "      <td>6</td>\n",
       "      <td>1</td>\n",
       "      <td>2</td>\n",
       "      <td>2148</td>\n",
       "      <td>1</td>\n",
       "      <td>11</td>\n",
       "      <td>0</td>\n",
       "      <td>6</td>\n",
       "      <td>130.129835</td>\n",
       "      <td>12</td>\n",
       "      <td>118.129835</td>\n",
       "    </tr>\n",
       "    <tr>\n",
       "      <th>1</th>\n",
       "      <td>5</td>\n",
       "      <td>4</td>\n",
       "      <td>0</td>\n",
       "      <td>17</td>\n",
       "      <td>4</td>\n",
       "      <td>1</td>\n",
       "      <td>1562</td>\n",
       "      <td>1</td>\n",
       "      <td>15</td>\n",
       "      <td>3</td>\n",
       "      <td>2</td>\n",
       "      <td>118.044387</td>\n",
       "      <td>60</td>\n",
       "      <td>58.044387</td>\n",
       "    </tr>\n",
       "    <tr>\n",
       "      <th>2</th>\n",
       "      <td>4</td>\n",
       "      <td>1</td>\n",
       "      <td>0</td>\n",
       "      <td>2</td>\n",
       "      <td>3</td>\n",
       "      <td>1</td>\n",
       "      <td>2358</td>\n",
       "      <td>3</td>\n",
       "      <td>11</td>\n",
       "      <td>3</td>\n",
       "      <td>5</td>\n",
       "      <td>152.620581</td>\n",
       "      <td>96</td>\n",
       "      <td>56.620581</td>\n",
       "    </tr>\n",
       "    <tr>\n",
       "      <th>3</th>\n",
       "      <td>7</td>\n",
       "      <td>1</td>\n",
       "      <td>0</td>\n",
       "      <td>10</td>\n",
       "      <td>1</td>\n",
       "      <td>1</td>\n",
       "      <td>1868</td>\n",
       "      <td>4</td>\n",
       "      <td>12</td>\n",
       "      <td>2</td>\n",
       "      <td>2</td>\n",
       "      <td>135.456825</td>\n",
       "      <td>72</td>\n",
       "      <td>63.456825</td>\n",
       "    </tr>\n",
       "    <tr>\n",
       "      <th>4</th>\n",
       "      <td>9</td>\n",
       "      <td>1</td>\n",
       "      <td>0</td>\n",
       "      <td>8</td>\n",
       "      <td>4</td>\n",
       "      <td>1</td>\n",
       "      <td>2542</td>\n",
       "      <td>3</td>\n",
       "      <td>13</td>\n",
       "      <td>0</td>\n",
       "      <td>5</td>\n",
       "      <td>165.868371</td>\n",
       "      <td>84</td>\n",
       "      <td>81.868371</td>\n",
       "    </tr>\n",
       "    <tr>\n",
       "      <th>...</th>\n",
       "      <td>...</td>\n",
       "      <td>...</td>\n",
       "      <td>...</td>\n",
       "      <td>...</td>\n",
       "      <td>...</td>\n",
       "      <td>...</td>\n",
       "      <td>...</td>\n",
       "      <td>...</td>\n",
       "      <td>...</td>\n",
       "      <td>...</td>\n",
       "      <td>...</td>\n",
       "      <td>...</td>\n",
       "      <td>...</td>\n",
       "      <td>...</td>\n",
       "    </tr>\n",
       "    <tr>\n",
       "      <th>3693</th>\n",
       "      <td>7</td>\n",
       "      <td>1</td>\n",
       "      <td>0</td>\n",
       "      <td>4</td>\n",
       "      <td>2</td>\n",
       "      <td>1</td>\n",
       "      <td>1456</td>\n",
       "      <td>1</td>\n",
       "      <td>18</td>\n",
       "      <td>0</td>\n",
       "      <td>2</td>\n",
       "      <td>69.455349</td>\n",
       "      <td>72</td>\n",
       "      <td>-2.544651</td>\n",
       "    </tr>\n",
       "    <tr>\n",
       "      <th>3694</th>\n",
       "      <td>5</td>\n",
       "      <td>2</td>\n",
       "      <td>0</td>\n",
       "      <td>5</td>\n",
       "      <td>1</td>\n",
       "      <td>2</td>\n",
       "      <td>2147</td>\n",
       "      <td>3</td>\n",
       "      <td>17</td>\n",
       "      <td>1</td>\n",
       "      <td>5</td>\n",
       "      <td>142.888124</td>\n",
       "      <td>36</td>\n",
       "      <td>106.888124</td>\n",
       "    </tr>\n",
       "    <tr>\n",
       "      <th>3695</th>\n",
       "      <td>7</td>\n",
       "      <td>2</td>\n",
       "      <td>0</td>\n",
       "      <td>2</td>\n",
       "      <td>1</td>\n",
       "      <td>1</td>\n",
       "      <td>2625</td>\n",
       "      <td>2</td>\n",
       "      <td>15</td>\n",
       "      <td>0</td>\n",
       "      <td>2</td>\n",
       "      <td>153.361355</td>\n",
       "      <td>36</td>\n",
       "      <td>117.361355</td>\n",
       "    </tr>\n",
       "    <tr>\n",
       "      <th>3696</th>\n",
       "      <td>5</td>\n",
       "      <td>2</td>\n",
       "      <td>0</td>\n",
       "      <td>25</td>\n",
       "      <td>2</td>\n",
       "      <td>2</td>\n",
       "      <td>2585</td>\n",
       "      <td>0</td>\n",
       "      <td>20</td>\n",
       "      <td>0</td>\n",
       "      <td>4</td>\n",
       "      <td>150.721718</td>\n",
       "      <td>48</td>\n",
       "      <td>102.721718</td>\n",
       "    </tr>\n",
       "    <tr>\n",
       "      <th>3697</th>\n",
       "      <td>5</td>\n",
       "      <td>1</td>\n",
       "      <td>0</td>\n",
       "      <td>18</td>\n",
       "      <td>1</td>\n",
       "      <td>3</td>\n",
       "      <td>2063</td>\n",
       "      <td>0</td>\n",
       "      <td>14</td>\n",
       "      <td>1</td>\n",
       "      <td>2</td>\n",
       "      <td>123.441939</td>\n",
       "      <td>108</td>\n",
       "      <td>15.441939</td>\n",
       "    </tr>\n",
       "  </tbody>\n",
       "</table>\n",
       "<p>3698 rows × 14 columns</p>\n",
       "</div>"
      ],
      "text/plain": [
       "      satisfaction  life_balance  travel  distance_home  job_level  \\\n",
       "0                3             2       2              6          1   \n",
       "1                5             4       0             17          4   \n",
       "2                4             1       0              2          3   \n",
       "3                7             1       0             10          1   \n",
       "4                9             1       0              8          4   \n",
       "...            ...           ...     ...            ...        ...   \n",
       "3693             7             1       0              4          2   \n",
       "3694             5             2       0              5          1   \n",
       "3695             7             2       0              2          1   \n",
       "3696             5             2       0             25          2   \n",
       "3697             5             1       0             18          1   \n",
       "\n",
       "      marital_status  income  previous_companies  salary_hike  stock_option  \\\n",
       "0                  2    2148                   1           11             0   \n",
       "1                  1    1562                   1           15             3   \n",
       "2                  1    2358                   3           11             3   \n",
       "3                  1    1868                   4           12             2   \n",
       "4                  1    2542                   3           13             0   \n",
       "...              ...     ...                 ...          ...           ...   \n",
       "3693               1    1456                   1           18             0   \n",
       "3694               2    2147                   3           17             1   \n",
       "3695               1    2625                   2           15             0   \n",
       "3696               2    2585                   0           20             0   \n",
       "3697               3    2063                   0           14             1   \n",
       "\n",
       "      training_ly  meses_predichos  meses_reales  tiempo_restante  \n",
       "0               6       130.129835            12       118.129835  \n",
       "1               2       118.044387            60        58.044387  \n",
       "2               5       152.620581            96        56.620581  \n",
       "3               2       135.456825            72        63.456825  \n",
       "4               5       165.868371            84        81.868371  \n",
       "...           ...              ...           ...              ...  \n",
       "3693            2        69.455349            72        -2.544651  \n",
       "3694            5       142.888124            36       106.888124  \n",
       "3695            2       153.361355            36       117.361355  \n",
       "3696            4       150.721718            48       102.721718  \n",
       "3697            2       123.441939           108        15.441939  \n",
       "\n",
       "[3698 rows x 14 columns]"
      ]
     },
     "execution_count": 62,
     "metadata": {},
     "output_type": "execute_result"
    }
   ],
   "source": [
    "data_pred"
   ]
  },
  {
   "cell_type": "code",
   "execution_count": null,
   "metadata": {},
   "outputs": [
    {
     "name": "stdout",
     "output_type": "stream",
     "text": [
      "6      -11.647789\n",
      "9      -13.630264\n",
      "22      -0.121826\n",
      "24      -0.776978\n",
      "51      -8.793243\n",
      "          ...    \n",
      "3672    -8.548584\n",
      "3674    -6.731163\n",
      "3685   -13.777031\n",
      "3689   -19.991974\n",
      "3697   -11.510223\n",
      "Name: diferencia, Length: 294, dtype: float64\n"
     ]
    }
   ],
   "source": [
    "# Vemos cuántos deberían irse hace 24 meses\n",
    "print(data_pred.loc[(data_pred['diferencia'] >= -24) & (data_pred['diferencia'] <= 0), 'diferencia'])"
   ]
  },
  {
   "cell_type": "code",
   "execution_count": null,
   "metadata": {},
   "outputs": [
    {
     "data": {
      "text/plain": [
       "396"
      ]
     },
     "execution_count": 19,
     "metadata": {},
     "output_type": "execute_result"
    }
   ],
   "source": [
    "# Contar cuántos valores de la columna diferencia son negativos\n",
    "data_pred['diferencia'].loc[data_pred['diferencia'] < -24].count()\n"
   ]
  },
  {
   "cell_type": "code",
   "execution_count": null,
   "metadata": {},
   "outputs": [
    {
     "data": {
      "text/plain": [
       "count    3698.000000\n",
       "mean       51.274274\n",
       "std        68.122721\n",
       "min      -324.499608\n",
       "25%        22.560852\n",
       "50%        61.203665\n",
       "75%        95.018400\n",
       "max       215.297923\n",
       "Name: diferencia, dtype: float64"
      ]
     },
     "execution_count": 20,
     "metadata": {},
     "output_type": "execute_result"
    }
   ],
   "source": [
    "data_pred['diferencia'].describe()"
   ]
  },
  {
   "attachments": {},
   "cell_type": "markdown",
   "metadata": {},
   "source": [
    "### Histogramas"
   ]
  },
  {
   "cell_type": "code",
   "execution_count": null,
   "metadata": {},
   "outputs": [
    {
     "data": {
      "text/plain": [
       "<AxesSubplot:>"
      ]
     },
     "execution_count": 21,
     "metadata": {},
     "output_type": "execute_result"
    },
    {
     "data": {
      "image/png": "[encoded data removed]",
      "text/plain": [
       "<Figure size 1200x600 with 1 Axes>"
      ]
     },
     "metadata": {},
     "output_type": "display_data"
    }
   ],
   "source": [
    "# Hacer un histograma de los valores de diferencia\n",
    "data_pred['diferencia'].hist(bins=200, figsize=(12, 6))"
   ]
  }
 ],
 "metadata": {
  "kernelspec": {
   "display_name": "Python 3",
   "language": "python",
   "name": "python3"
  },
  "language_info": {
   "codemirror_mode": {
    "name": "ipython",
    "version": 3
   },
   "file_extension": ".py",
   "mimetype": "text/x-python",
   "name": "python",
   "nbconvert_exporter": "python",
   "pygments_lexer": "ipython3",
   "version": "3.7.4"
  },
  "orig_nbformat": 4
 },
 "nbformat": 4,
 "nbformat_minor": 2
}
