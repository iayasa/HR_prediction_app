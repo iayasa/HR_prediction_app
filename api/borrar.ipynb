{
 "cells": [
  {
   "cell_type": "code",
   "execution_count": null,
   "metadata": {},
   "outputs": [],
   "source": [
    "connection = get_connection()\n",
    "cursor = connection.cursor()\n",
    "cursor.execute(\"SELECT * from replacement\")\n",
    "resultado = cursor.fetchall()\n",
    "column_names = [desc[0] for desc in cursor.description] \n",
    "df_replacement = pd.DataFrame(resultado, columns=column_names)\n",
    "\n"
   ]
  }
 ],
 "metadata": {
  "language_info": {
   "name": "python"
  },
  "orig_nbformat": 4
 },
 "nbformat": 4,
 "nbformat_minor": 2
}
